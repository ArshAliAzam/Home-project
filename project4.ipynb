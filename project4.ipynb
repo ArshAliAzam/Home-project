{
 "cells": [
  {
   "cell_type": "markdown",
   "metadata": {},
   "source": [
    "### 4. SQUARE_NUMBER\n",
    "\n",
    "Ask the user for a number and print its square (the product of the number times itself).\n",
    "\n",
    "Here's a sample run of the program (user input is in bold italics):\n",
    "\n",
    "Type a number to see its square: 4\n",
    "\n",
    "4.0 squared is 16.0"
   ]
  },
  {
   "cell_type": "code",
   "execution_count": 7,
   "metadata": {},
   "outputs": [
    {
     "name": "stdout",
     "output_type": "stream",
     "text": [
      "\u001b[34m5.0 \u001b[0msquared is 25.0\n"
     ]
    }
   ],
   "source": [
    "num = float(input(\"Type a number to see its square: \"))\n",
    "\n",
    "square = num ** 2\n",
    "\n",
    "print(f\"\\033[34m{num} \\033[0msquared is {square}\")\n"
   ]
  }
 ],
 "metadata": {
  "kernelspec": {
   "display_name": "Python 3",
   "language": "python",
   "name": "python3"
  },
  "language_info": {
   "codemirror_mode": {
    "name": "ipython",
    "version": 3
   },
   "file_extension": ".py",
   "mimetype": "text/x-python",
   "name": "python",
   "nbconvert_exporter": "python",
   "pygments_lexer": "ipython3",
   "version": "3.13.1"
  }
 },
 "nbformat": 4,
 "nbformat_minor": 2
}
